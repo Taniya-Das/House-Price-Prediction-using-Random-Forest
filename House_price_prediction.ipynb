{
  "nbformat": 4,
  "nbformat_minor": 0,
  "metadata": {
    "colab": {
      "name": "House_price_prediction.ipynb",
      "provenance": [],
      "mount_file_id": "1l6RaXaP6eeAwj5Y24e6no9l_f2k5560X",
      "authorship_tag": "ABX9TyMD48o2yFzi7fOsHmQMIjIG"
    },
    "kernelspec": {
      "name": "python3",
      "display_name": "Python 3"
    },
    "language_info": {
      "name": "python"
    }
  },
  "cells": [
    {
      "cell_type": "code",
      "metadata": {
        "id": "FUY7QeLCp9U0"
      },
      "source": [
        "import numpy as np\n",
        "import pandas as pd\n",
        "\n",
        "from sklearn.model_selection import train_test_split\n",
        "\n"
      ],
      "execution_count": 1,
      "outputs": []
    },
    {
      "cell_type": "code",
      "metadata": {
        "id": "06FJLBMqomoj"
      },
      "source": [
        "#Reading Data\n",
        "path='/content/drive/MyDrive/Colab Notebooks/Google Collab ML data repository/Melbourne_dataset/melb_data.csv'\n",
        "\n",
        "data=pd.read_csv(path)\n"
      ],
      "execution_count": 2,
      "outputs": []
    },
    {
      "cell_type": "code",
      "metadata": {
        "colab": {
          "base_uri": "https://localhost:8080/"
        },
        "id": "d3nQLxgZq3EM",
        "outputId": "61dad9f8-63df-4f48-db3d-e7ef01b54247"
      },
      "source": [
        "#Overviewing data\n",
        "data.head()\n",
        "data.describe()\n",
        "data.info()\n"
      ],
      "execution_count": 3,
      "outputs": [
        {
          "output_type": "stream",
          "text": [
            "<class 'pandas.core.frame.DataFrame'>\n",
            "RangeIndex: 13580 entries, 0 to 13579\n",
            "Data columns (total 21 columns):\n",
            " #   Column         Non-Null Count  Dtype  \n",
            "---  ------         --------------  -----  \n",
            " 0   Suburb         13580 non-null  object \n",
            " 1   Address        13580 non-null  object \n",
            " 2   Rooms          13580 non-null  int64  \n",
            " 3   Type           13580 non-null  object \n",
            " 4   Price          13580 non-null  float64\n",
            " 5   Method         13580 non-null  object \n",
            " 6   SellerG        13580 non-null  object \n",
            " 7   Date           13580 non-null  object \n",
            " 8   Distance       13580 non-null  float64\n",
            " 9   Postcode       13580 non-null  float64\n",
            " 10  Bedroom2       13580 non-null  float64\n",
            " 11  Bathroom       13580 non-null  float64\n",
            " 12  Car            13518 non-null  float64\n",
            " 13  Landsize       13580 non-null  float64\n",
            " 14  BuildingArea   7130 non-null   float64\n",
            " 15  YearBuilt      8205 non-null   float64\n",
            " 16  CouncilArea    12211 non-null  object \n",
            " 17  Lattitude      13580 non-null  float64\n",
            " 18  Longtitude     13580 non-null  float64\n",
            " 19  Regionname     13580 non-null  object \n",
            " 20  Propertycount  13580 non-null  float64\n",
            "dtypes: float64(12), int64(1), object(8)\n",
            "memory usage: 2.2+ MB\n"
          ],
          "name": "stdout"
        }
      ]
    },
    {
      "cell_type": "code",
      "metadata": {
        "id": "6ASlGdUrrJfq"
      },
      "source": [
        "#diving training and testing data \n",
        "y = data.Price\n",
        "X = data.drop(['Price'],axis=1)\n",
        "\n",
        "X_train_full,X_test_full,y_train,y_test = train_test_split(X,y,train_size=0.8,test_size=0.2,random_state=0)\n"
      ],
      "execution_count": 4,
      "outputs": []
    },
    {
      "cell_type": "code",
      "metadata": {
        "colab": {
          "base_uri": "https://localhost:8080/"
        },
        "id": "QWmrIWpjCWL8",
        "outputId": "caa51e54-26c5-4561-c9e1-8f7ff7c7450e"
      },
      "source": [
        "#Selecting categorical columns with low cardinality  \n",
        "\n",
        "categorical_col=[col for col in X_train_full.columns if X_train_full[col].nunique()<10 and X_train_full[col].dtype=='O']\n",
        "print(categorical_col)"
      ],
      "execution_count": 5,
      "outputs": [
        {
          "output_type": "stream",
          "text": [
            "['Type', 'Method', 'Regionname']\n"
          ],
          "name": "stdout"
        }
      ]
    },
    {
      "cell_type": "code",
      "metadata": {
        "colab": {
          "base_uri": "https://localhost:8080/"
        },
        "id": "4Q1d_kohHVQM",
        "outputId": "44c64e95-1441-42da-fa92-28b12206e20a"
      },
      "source": [
        "#Selecting numerical columns\n",
        "\n",
        "numerical_col = [col for col in X_train_full.columns if X_train_full[col].dtype in ['int64','float64']]\n",
        "print(numerical_col)"
      ],
      "execution_count": 6,
      "outputs": [
        {
          "output_type": "stream",
          "text": [
            "['Rooms', 'Distance', 'Postcode', 'Bedroom2', 'Bathroom', 'Car', 'Landsize', 'BuildingArea', 'YearBuilt', 'Lattitude', 'Longtitude', 'Propertycount']\n"
          ],
          "name": "stdout"
        }
      ]
    },
    {
      "cell_type": "code",
      "metadata": {
        "colab": {
          "base_uri": "https://localhost:8080/",
          "height": 309
        },
        "id": "jKxdRByHIRtj",
        "outputId": "ad50d62e-ab0c-4644-c77d-31fe9993714e"
      },
      "source": [
        "#Keeping only selected columns\n",
        "my_col=numerical_col + categorical_col\n",
        "\n",
        "X_train=X_train_full[my_col].copy()\n",
        "X_test_full=X_test_full[my_col].copy()\n",
        "\n",
        "X_train.head()"
      ],
      "execution_count": 7,
      "outputs": [
        {
          "output_type": "execute_result",
          "data": {
            "text/html": [
              "<div>\n",
              "<style scoped>\n",
              "    .dataframe tbody tr th:only-of-type {\n",
              "        vertical-align: middle;\n",
              "    }\n",
              "\n",
              "    .dataframe tbody tr th {\n",
              "        vertical-align: top;\n",
              "    }\n",
              "\n",
              "    .dataframe thead th {\n",
              "        text-align: right;\n",
              "    }\n",
              "</style>\n",
              "<table border=\"1\" class=\"dataframe\">\n",
              "  <thead>\n",
              "    <tr style=\"text-align: right;\">\n",
              "      <th></th>\n",
              "      <th>Rooms</th>\n",
              "      <th>Distance</th>\n",
              "      <th>Postcode</th>\n",
              "      <th>Bedroom2</th>\n",
              "      <th>Bathroom</th>\n",
              "      <th>Car</th>\n",
              "      <th>Landsize</th>\n",
              "      <th>BuildingArea</th>\n",
              "      <th>YearBuilt</th>\n",
              "      <th>Lattitude</th>\n",
              "      <th>Longtitude</th>\n",
              "      <th>Propertycount</th>\n",
              "      <th>Type</th>\n",
              "      <th>Method</th>\n",
              "      <th>Regionname</th>\n",
              "    </tr>\n",
              "  </thead>\n",
              "  <tbody>\n",
              "    <tr>\n",
              "      <th>12167</th>\n",
              "      <td>1</td>\n",
              "      <td>5.0</td>\n",
              "      <td>3182.0</td>\n",
              "      <td>1.0</td>\n",
              "      <td>1.0</td>\n",
              "      <td>1.0</td>\n",
              "      <td>0.0</td>\n",
              "      <td>NaN</td>\n",
              "      <td>1940.0</td>\n",
              "      <td>-37.85984</td>\n",
              "      <td>144.9867</td>\n",
              "      <td>13240.0</td>\n",
              "      <td>u</td>\n",
              "      <td>S</td>\n",
              "      <td>Southern Metropolitan</td>\n",
              "    </tr>\n",
              "    <tr>\n",
              "      <th>6524</th>\n",
              "      <td>2</td>\n",
              "      <td>8.0</td>\n",
              "      <td>3016.0</td>\n",
              "      <td>2.0</td>\n",
              "      <td>2.0</td>\n",
              "      <td>1.0</td>\n",
              "      <td>193.0</td>\n",
              "      <td>NaN</td>\n",
              "      <td>NaN</td>\n",
              "      <td>-37.85800</td>\n",
              "      <td>144.9005</td>\n",
              "      <td>6380.0</td>\n",
              "      <td>h</td>\n",
              "      <td>SA</td>\n",
              "      <td>Western Metropolitan</td>\n",
              "    </tr>\n",
              "    <tr>\n",
              "      <th>8413</th>\n",
              "      <td>3</td>\n",
              "      <td>12.6</td>\n",
              "      <td>3020.0</td>\n",
              "      <td>3.0</td>\n",
              "      <td>1.0</td>\n",
              "      <td>1.0</td>\n",
              "      <td>555.0</td>\n",
              "      <td>NaN</td>\n",
              "      <td>NaN</td>\n",
              "      <td>-37.79880</td>\n",
              "      <td>144.8220</td>\n",
              "      <td>3755.0</td>\n",
              "      <td>h</td>\n",
              "      <td>S</td>\n",
              "      <td>Western Metropolitan</td>\n",
              "    </tr>\n",
              "    <tr>\n",
              "      <th>2919</th>\n",
              "      <td>3</td>\n",
              "      <td>13.0</td>\n",
              "      <td>3046.0</td>\n",
              "      <td>3.0</td>\n",
              "      <td>1.0</td>\n",
              "      <td>1.0</td>\n",
              "      <td>265.0</td>\n",
              "      <td>NaN</td>\n",
              "      <td>1995.0</td>\n",
              "      <td>-37.70830</td>\n",
              "      <td>144.9158</td>\n",
              "      <td>8870.0</td>\n",
              "      <td>u</td>\n",
              "      <td>SP</td>\n",
              "      <td>Northern Metropolitan</td>\n",
              "    </tr>\n",
              "    <tr>\n",
              "      <th>6043</th>\n",
              "      <td>3</td>\n",
              "      <td>13.3</td>\n",
              "      <td>3020.0</td>\n",
              "      <td>3.0</td>\n",
              "      <td>1.0</td>\n",
              "      <td>2.0</td>\n",
              "      <td>673.0</td>\n",
              "      <td>673.0</td>\n",
              "      <td>1970.0</td>\n",
              "      <td>-37.76230</td>\n",
              "      <td>144.8272</td>\n",
              "      <td>4217.0</td>\n",
              "      <td>h</td>\n",
              "      <td>S</td>\n",
              "      <td>Western Metropolitan</td>\n",
              "    </tr>\n",
              "  </tbody>\n",
              "</table>\n",
              "</div>"
            ],
            "text/plain": [
              "       Rooms  Distance  Postcode  ...  Type  Method             Regionname\n",
              "12167      1       5.0    3182.0  ...     u       S  Southern Metropolitan\n",
              "6524       2       8.0    3016.0  ...     h      SA   Western Metropolitan\n",
              "8413       3      12.6    3020.0  ...     h       S   Western Metropolitan\n",
              "2919       3      13.0    3046.0  ...     u      SP  Northern Metropolitan\n",
              "6043       3      13.3    3020.0  ...     h       S   Western Metropolitan\n",
              "\n",
              "[5 rows x 15 columns]"
            ]
          },
          "metadata": {
            "tags": []
          },
          "execution_count": 7
        }
      ]
    },
    {
      "cell_type": "markdown",
      "metadata": {
        "id": "uIZ7EUA1fC_j"
      },
      "source": [
        "Pipeling\n"
      ]
    },
    {
      "cell_type": "code",
      "metadata": {
        "id": "cGOZBkhWRe0x"
      },
      "source": [
        "#Step 1: Defining Preprocessing steps\n",
        "#numerical data only needs imputation\n",
        "#categorical data needs imputation and encoding \n",
        "\n",
        "from sklearn.compose import ColumnTransformer\n",
        "from sklearn.pipeline import Pipeline\n",
        "from sklearn.impute import SimpleImputer \n",
        "from sklearn.preprocessing import OneHotEncoder\n",
        "\n",
        "numerical_transformer=SimpleImputer(strategy='constant')\n",
        "\n",
        "categorical_transformer=Pipeline(steps=[\n",
        "                                 ('imputer',SimpleImputer(strategy='most_frequent')),\n",
        "                                 ('onehot',OneHotEncoder(handle_unknown='ignore'))                                     \n",
        "])\n",
        "\n",
        "#Bundle preprocessors for numerical and categorical data                                 \n",
        "preprocessor = ColumnTransformer(transformers=[\n",
        "    ('num',numerical_transformer,numerical_col),\n",
        "    ('cat',categorical_transformer,categorical_col)\n",
        "])\n",
        "\n",
        "\n"
      ],
      "execution_count": 8,
      "outputs": []
    },
    {
      "cell_type": "code",
      "metadata": {
        "id": "QU1L5hX3iwop"
      },
      "source": [
        "#Step 2: Defining model\n",
        "from sklearn.ensemble import RandomForestRegressor\n",
        "\n",
        "model=RandomForestRegressor(n_estimators=100,random_state=0)"
      ],
      "execution_count": 9,
      "outputs": []
    },
    {
      "cell_type": "code",
      "metadata": {
        "id": "_FqiUQnki81w"
      },
      "source": [
        "#Step 3: Creating and Evaluating Pipeline\n",
        "\n",
        "my_pipeline = Pipeline(steps=[\n",
        "                                              ('preprocessor',preprocessor),\n",
        "                                              ('model',model)\n",
        "])"
      ],
      "execution_count": 10,
      "outputs": []
    },
    {
      "cell_type": "code",
      "metadata": {
        "id": "zkp0IDC8kESY"
      },
      "source": [
        "#Fitting model and prediction\n",
        "my_pipeline.fit(X_train,y_train)\n",
        "\n",
        "preds=my_pipeline.predict(X_test_full)\n",
        "\n"
      ],
      "execution_count": 11,
      "outputs": []
    },
    {
      "cell_type": "code",
      "metadata": {
        "colab": {
          "base_uri": "https://localhost:8080/"
        },
        "id": "qZ3XAdEakrBC",
        "outputId": "61ee0c1b-5995-43b6-ac07-2c9c5287fc83"
      },
      "source": [
        "#Score=Mean_absolute error\n",
        "from sklearn.metrics import mean_absolute_error\n",
        "\n",
        "score=mean_absolute_error(y_test,preds)\n",
        "print('Mean_Absolute_Error:',score)"
      ],
      "execution_count": 12,
      "outputs": [
        {
          "output_type": "stream",
          "text": [
            "Mean_Absolute_Error: 160679.18917034855\n"
          ],
          "name": "stdout"
        }
      ]
    }
  ]
}